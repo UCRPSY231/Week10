{
 "cells": [
  {
   "cell_type": "markdown",
   "metadata": {
    "deletable": true,
    "editable": true
   },
   "source": [
    "# Multi Layer (Deep) Neural Network"
   ]
  },
  {
   "cell_type": "code",
   "execution_count": 7,
   "metadata": {
    "collapsed": true,
    "deletable": true,
    "editable": true
   },
   "outputs": [],
   "source": [
    "from __future__ import print_function # for python 2 and 3 compatibility\n",
    "\n",
    "import pandas as pd\n",
    "import numpy as np\n",
    "from sklearn.neural_network import MLPClassifier\n",
    "from sklearn.feature_extraction.text import CountVectorizer\n",
    "from sklearn.model_selection import train_test_split\n",
    "from sklearn.preprocessing import StandardScaler\n",
    "from scipy.cluster.hierarchy import linkage, dendrogram\n",
    "from scipy.spatial.distance import pdist"
   ]
  },
  {
   "cell_type": "markdown",
   "metadata": {
    "deletable": true,
    "editable": true
   },
   "source": [
    "## Load data"
   ]
  },
  {
   "cell_type": "code",
   "execution_count": 17,
   "metadata": {
    "collapsed": false,
    "deletable": true,
    "editable": true
   },
   "outputs": [],
   "source": [
    "# read csv\n",
    "all_charts = pd.read_csv('BillboardLyricData.txt', sep='\\t', encoding='utf-8')\n",
    "all_charts = all_charts.dropna()\n",
    "\n",
    "# countvecotrize data\n",
    "num_features = 500\n",
    "vectorizer = CountVectorizer(max_df=0.5, min_df=0.0, max_features=num_features, stop_words='english')\n",
    "X = np.asarray(vectorizer.fit_transform(all_charts.lyrics).todense()).astype(np.float32)\n",
    "\n",
    "# y to ints\n",
    "labels = np.unique(all_charts.chart).tolist()\n",
    "num_labels = len(labels)\n",
    "class_mapping = {label:idx for idx,label in enumerate(labels)}\n",
    "y = all_charts.chart.map(class_mapping)\n",
    "\n",
    "# split into train and test\n",
    "X_train, X_test, y_train, y_test = train_test_split(X, y, test_size=0.3)\n",
    "\n",
    "# scale\n",
    "std_scaler = StandardScaler()\n",
    "X_train_std = std_scaler.fit_transform(X_train)\n",
    "X_test_std = std_scaler.transform(X_test)\n"
   ]
  },
  {
   "cell_type": "markdown",
   "metadata": {
    "deletable": true,
    "editable": true
   },
   "source": [
    "## Fit data with MLPClassifier\n",
    "### http://scikit-learn.org/stable/modules/generated/sklearn.neural_network.MLPClassifier.html"
   ]
  },
  {
   "cell_type": "code",
   "execution_count": 18,
   "metadata": {
    "collapsed": false,
    "deletable": true,
    "editable": true
   },
   "outputs": [
    {
     "data": {
      "text/plain": [
       "MLPClassifier(activation='logistic', alpha=1e-05, batch_size=10, beta_1=0.9,\n",
       "       beta_2=0.999, early_stopping=False, epsilon=1e-08,\n",
       "       hidden_layer_sizes=(100, 50), learning_rate='constant',\n",
       "       learning_rate_init=0.01, max_iter=200, momentum=0.9,\n",
       "       nesterovs_momentum=True, power_t=0.5, random_state=None,\n",
       "       shuffle=True, solver='adam', tol=0.0001, validation_fraction=0.1,\n",
       "       verbose=False, warm_start=False)"
      ]
     },
     "execution_count": 18,
     "metadata": {},
     "output_type": "execute_result"
    }
   ],
   "source": [
    "model = MLPClassifier(alpha=1e-5,\n",
    "                      hidden_layer_sizes=(100),\n",
    "                      activation='logistic',\n",
    "                      batch_size=10,\n",
    "                      learning_rate_init=0.01,\n",
    "                      learning_rate='constant')\n",
    "model.fit(X_train_std, y_train)"
   ]
  },
  {
   "cell_type": "code",
   "execution_count": 16,
   "metadata": {
    "collapsed": false,
    "deletable": true,
    "editable": true
   },
   "outputs": [
    {
     "name": "stdout",
     "output_type": "stream",
     "text": [
      "Train accuracy: 0.934837092732\n",
      "Test accuracy: 0.421052631579\n"
     ]
    }
   ],
   "source": [
    "# evaluate model\n",
    "train_acc = model.score(X_train_std, y_train)\n",
    "test_acc = model.score(X_test_std, y_test)\n",
    "print('Train accuracy: {}'.format(train_acc))\n",
    "print('Test accuracy: {}'.format(test_acc))"
   ]
  },
  {
   "cell_type": "markdown",
   "metadata": {
    "deletable": true,
    "editable": true
   },
   "source": [
    "## Singular Value Decomposition of Hidden Representations"
   ]
  },
  {
   "cell_type": "code",
   "execution_count": null,
   "metadata": {
    "collapsed": true,
    "deletable": true,
    "editable": true
   },
   "outputs": [],
   "source": [
    "# compute hidden representations\n",
    "hiddens_mat = ? # in-class exercise"
   ]
  },
  {
   "cell_type": "code",
   "execution_count": null,
   "metadata": {
    "collapsed": true,
    "deletable": true,
    "editable": true
   },
   "outputs": [],
   "source": [
    "# compute the SVD\n",
    "U, s, V = np.linalg.svd(hiddens_mat)\n",
    "\n",
    "# plot U, s, V\n",
    "fig1, axarr1 = plt.subplots(1, 2)\n",
    "for ax, mat, ytlabels in zip(axarr1, [U, V], [item_labels, feature_labels]):\n",
    "    ax.imshow(mat, interpolation='none')\n",
    "    ax.set_yticks(np.arange(V.shape[0]) + 0.5, minor=False)\n",
    "    ax.set_yticklabels(ytlabels, minor=False)\n",
    "    ax.set_xticks([])\n",
    "    ax.plot(s)\n",
    "\n",
    "# dimensionality reduction to 2D using first two columns of U\n",
    "fig2, ax2 = plt.subplots()\n",
    "ax2.plot(U[:, 0], U[:,1], \"o\")\n",
    "ax2.set_xlabel('dim1')\n",
    "ax2.set_ylabel('dim2')\n",
    "plt.suptitle('Dimensionality Reduction with First 2 PCs', fontweight='bold', fontsize=14)\n",
    "\n",
    "plt.show()"
   ]
  },
  {
   "cell_type": "markdown",
   "metadata": {
    "deletable": true,
    "editable": true
   },
   "source": [
    "## Hierarchical Clustering of Hidden Representations"
   ]
  },
  {
   "cell_type": "code",
   "execution_count": null,
   "metadata": {
    "collapsed": true,
    "deletable": true,
    "editable": true
   },
   "outputs": [],
   "source": [
    "# compute distances, and linkages\n",
    "data_dist = pdist(hiddens_mat) \n",
    "data_link = linkage(data_dist) \n",
    "\n",
    "# plot the cluster diagram using linkages\n",
    "fig3, ax3 = plt.subplots()\n",
    "dendrogram(data_link, ax=ax3)\n",
    "ax3.set_xlabel('Items')\n",
    "ax3.set_ylabel('Distance')\n",
    "plt.suptitle('Hierarchical clustering', fontweight='bold', fontsize=14)\n",
    "\n",
    "plt.show()"
   ]
  }
 ],
 "metadata": {
  "kernelspec": {
   "display_name": "Python 2",
   "language": "python",
   "name": "python2"
  },
  "language_info": {
   "codemirror_mode": {
    "name": "ipython",
    "version": 2
   },
   "file_extension": ".py",
   "mimetype": "text/x-python",
   "name": "python",
   "nbconvert_exporter": "python",
   "pygments_lexer": "ipython2",
   "version": "2.7.6"
  }
 },
 "nbformat": 4,
 "nbformat_minor": 2
}
